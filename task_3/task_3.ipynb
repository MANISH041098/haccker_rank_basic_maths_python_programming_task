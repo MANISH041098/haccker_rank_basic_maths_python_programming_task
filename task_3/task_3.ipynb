{
 "cells": [
  {
   "cell_type": "code",
   "execution_count": null,
   "id": "b23eaa09",
   "metadata": {},
   "outputs": [],
   "source": [
    "# Question 1\n",
    "import cmath\n",
    "\n",
    "z = complex(input())\n",
    "\n",
    "r,phi = cmath.polar(z)\n",
    "\n",
    "print(r)\n",
    "print(phi)"
   ]
  },
  {
   "cell_type": "code",
   "execution_count": null,
   "id": "82b72bac",
   "metadata": {},
   "outputs": [],
   "source": [
    "# Question 2\n",
    "import math\n",
    "\n",
    "AB = int(input())\n",
    "BC = int(input())\n",
    "\n",
    "theta = math.atan(AB/BC)\n",
    "\n",
    "theta_to_degree = round(math.degrees(theta))\n",
    "\n",
    "print(theta_to_degree,chr(176),sep='')"
   ]
  },
  {
   "cell_type": "code",
   "execution_count": null,
   "id": "eda70cf0",
   "metadata": {},
   "outputs": [],
   "source": [
    "# Question 3\n",
    "for i in range(1,int(input())+1):\n",
    "    print((pow(10,i)//9)**2)"
   ]
  },
  {
   "cell_type": "code",
   "execution_count": null,
   "id": "178f5a52",
   "metadata": {},
   "outputs": [],
   "source": [
    "# Question 4\n",
    "a = int(input())\n",
    "b = int(input())\n",
    "print(a//b)\n",
    "print(a%b)\n",
    "print(divmod(a,b))"
   ]
  },
  {
   "cell_type": "code",
   "execution_count": null,
   "id": "421b9b29",
   "metadata": {},
   "outputs": [],
   "source": [
    "# Question 5\n",
    "a = int(input())\n",
    "b = int(input())\n",
    "m = int(input())\n",
    "print(pow(a,b))\n",
    "print(pow(a,b,m))"
   ]
  },
  {
   "cell_type": "code",
   "execution_count": null,
   "id": "40baa93f",
   "metadata": {},
   "outputs": [],
   "source": [
    "# Question 6\n",
    "a = int(input())\n",
    "b = int(input())\n",
    "c = int(input())\n",
    "d = int(input())\n",
    "print((pow(a,b)) + (pow(c,d)))"
   ]
  },
  {
   "cell_type": "code",
   "execution_count": null,
   "id": "570b11f9",
   "metadata": {},
   "outputs": [],
   "source": [
    "# Question 7\n",
    "for i in range(1,int(input())):\n",
    "    print((pow(10,i)//9)*i)"
   ]
  }
 ],
 "metadata": {
  "kernelspec": {
   "display_name": "Python 3 (ipykernel)",
   "language": "python",
   "name": "python3"
  },
  "language_info": {
   "codemirror_mode": {
    "name": "ipython",
    "version": 3
   },
   "file_extension": ".py",
   "mimetype": "text/x-python",
   "name": "python",
   "nbconvert_exporter": "python",
   "pygments_lexer": "ipython3",
   "version": "3.9.7"
  }
 },
 "nbformat": 4,
 "nbformat_minor": 5
}
